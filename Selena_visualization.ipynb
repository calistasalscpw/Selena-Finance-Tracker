{
 "cells": [
  {
   "cell_type": "markdown",
   "metadata": {},
   "source": [
    "## Selena Data Visualization\n",
    "\n",
    "Visualisasi arus kas pengeluaran dan pemasukan dari pengguna. File yang didapatkan nanti adalah json dan outputnya adalah visualisasi."
   ]
  },
  {
   "cell_type": "markdown",
   "metadata": {},
   "source": [
    "## Import Libraries"
   ]
  },
  {
   "cell_type": "code",
   "execution_count": 1,
   "metadata": {},
   "outputs": [],
   "source": [
    "import csv\n",
    "import pickle\n",
    "import numpy as np\n",
    "import matplotlib.pyplot as plt\n",
    "from matplotlib.dates import DateFormatter\n",
    "import pandas as pd\n",
    "from sklearn.preprocessing import MinMaxScaler"
   ]
  },
  {
   "cell_type": "markdown",
   "metadata": {},
   "source": [
    "## Preprocessing Data"
   ]
  },
  {
   "cell_type": "code",
   "execution_count": 10,
   "metadata": {},
   "outputs": [],
   "source": [
    "#FUNGSI UNTUK PREPROCESSING DATA\n",
    "\n",
    "def preprocess_data(data_path):\n",
    "  # Membaca file dataset\n",
    "  df = pd.DataFrame(pd.read_csv(data_path))\n",
    "\n",
    "  # Mengambil kolom yang dibutuhkan\n",
    "  data_filtered = df[['TGL_TRAN', 'MUTASI_DEBET', 'MUTASI_KREDIT']].copy()\n",
    "\n",
    "  # Menghapus titik dari kolom 'MUTASI_DEBET'\n",
    "  #data_filtered['Total Pembayaran'] = data_filtered['Total Pembayaran'].astype(str).str.replace('.', '', regex=False)\n",
    "\n",
    "  # Mengkonversi tipe data\n",
    "  data_filtered['MUTASI_DEBET'] = pd.to_numeric(data_filtered['MUTASI_DEBET'])\n",
    "  data_filtered['MUTASI_KREDIT'] = pd.to_numeric(data_filtered['MUTASI_KREDIT'])\n",
    "  data_filtered['TGL_TRAN'] = pd.to_datetime(data_filtered['TGL_TRAN']).dt.date\n",
    "\n",
    "  # Assign value variabel time dan series\n",
    "  time = data_filtered['TGL_TRAN'].tolist()\n",
    "  expense = data_filtered['MUTASI_DEBET'].tolist()\n",
    "  income = data_filtered['MUTASI_KREDIT'].tolist()\n",
    "\n",
    "  return time, expense, income"
   ]
  },
  {
   "cell_type": "code",
   "execution_count": 11,
   "metadata": {},
   "outputs": [],
   "source": [
    "### Inisiasi variabel global ###\n",
    "\n",
    "DATA_PATH = './data/Dataset_BRI.csv'\n",
    "TIME, EXPENSE, INCOME = preprocess_data(DATA_PATH)"
   ]
  },
  {
   "cell_type": "code",
   "execution_count": null,
   "metadata": {},
   "outputs": [],
   "source": [
    "#Visualisasi Data\n",
    "\n",
    "plt.plot(TIME, EXPENSE, label = \"Pengeluaran\")\n",
    "plt.plot(TIME, INCOME, label = \"Pemasukan\")\n",
    "plt.show()"
   ]
  }
 ],
 "metadata": {
  "kernelspec": {
   "display_name": "Python 3",
   "language": "python",
   "name": "python3"
  },
  "language_info": {
   "codemirror_mode": {
    "name": "ipython",
    "version": 3
   },
   "file_extension": ".py",
   "mimetype": "text/x-python",
   "name": "python",
   "nbconvert_exporter": "python",
   "pygments_lexer": "ipython3",
   "version": "3.12.0"
  }
 },
 "nbformat": 4,
 "nbformat_minor": 2
}
