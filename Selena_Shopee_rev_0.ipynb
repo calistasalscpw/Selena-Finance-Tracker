{
  "nbformat": 4,
  "nbformat_minor": 0,
  "metadata": {
    "colab": {
      "provenance": [],
      "include_colab_link": true
    },
    "kernelspec": {
      "name": "python3",
      "display_name": "Python 3"
    },
    "language_info": {
      "name": "python"
    }
  },
  "cells": [
    {
      "cell_type": "markdown",
      "metadata": {
        "id": "view-in-github",
        "colab_type": "text"
      },
      "source": [
        "<a href=\"https://colab.research.google.com/github/calistasalscpw/Selena-Finance-Tracker/blob/main/Selena_Shopee_rev_0.ipynb\" target=\"_parent\"><img src=\"https://colab.research.google.com/assets/colab-badge.svg\" alt=\"Open In Colab\"/></a>"
      ]
    },
    {
      "cell_type": "markdown",
      "source": [
        "#Capstone Project - Selena (Tokped)"
      ],
      "metadata": {
        "id": "H0XYgMh_8SkL"
      }
    },
    {
      "cell_type": "markdown",
      "source": [
        "**Proses Analisis oleh Model ML (Menggunakan File .pkl)**\n",
        "\n",
        "- **Backend kemudian memuat model ML yang sudah dilatih (disimpan dalam format .pkl) menggunakan library Pickle di Python.**\n",
        "- Model ML ini memproses data transaksi pengguna yang sudah diambil dari database untuk melakukan beberapa tugas analisis:\n",
        "    - Arus Kas: Mengidentifikasi pola pemasukan dan pengeluaran.\n",
        "    - Saran Keuangan: Berdasarkan analisis tren keuangan pengguna, model bisa memberikan saran, misalnya mengurangi pengeluaran di kategori tertentu.\n",
        "    - Deteksi Anomali Pengeluaran: Model ML mendeteksi adanya transaksi atau pengeluaran yang tidak biasa atau mencurigakan.\n",
        "\n",
        "Pengembalian Hasil Analisis ke Backend (ML ke CC)\n",
        "\n",
        "- Model ML menghasilkan output analisis, seperti rekomendasi keuangan atau deteksi anomali, yang dikonversi ke **format JSON**.\n",
        "- Backend menerima hasil ini dan menggabungkannya menjadi satu respons JSON yang siap dikirim ke aplikasi mobile."
      ],
      "metadata": {
        "id": "QPKQk1WO8cht"
      }
    },
    {
      "cell_type": "markdown",
      "source": [
        "##Imports"
      ],
      "metadata": {
        "id": "3qxSTSyg8sJ6"
      }
    },
    {
      "cell_type": "code",
      "execution_count": null,
      "metadata": {
        "id": "wynJ_Uxk78FU"
      },
      "outputs": [],
      "source": [
        "import csv\n",
        "import pickle\n",
        "import numpy as np\n",
        "import tensorflow as tf\n",
        "import matplotlib.pyplot as plt"
      ]
    },
    {
      "cell_type": "markdown",
      "source": [
        "Open data. Path to be determined."
      ],
      "metadata": {
        "id": "KZVbwbbo87gH"
      }
    },
    {
      "cell_type": "code",
      "source": [
        "DATA_PATH = '' # format data .csv\n",
        "\n",
        "with open(DATA_PATH, 'r') as csvfile:\n",
        "    print(f\"Header looks like this:\\n\\n{csvfile.readline()}\")\n",
        "    print(f\"First data point looks like this:\\n\\n{csvfile.readline()}\")\n",
        "    print(f\"Second data point looks like this:\\n\\n{csvfile.readline()}\")"
      ],
      "metadata": {
        "id": "rT0ARu6i9FpC"
      },
      "execution_count": null,
      "outputs": []
    },
    {
      "cell_type": "code",
      "source": [
        "def plot_series(time, series, format=\"-\", start=0, end=None):\n",
        "    \"\"\"Plot the series\"\"\"\n",
        "    plt.plot(time[start:end], series[start:end], format)\n",
        "    plt.xlabel(\"Time\")\n",
        "    plt.ylabel(\"Value\")\n",
        "    plt.grid(True)"
      ],
      "metadata": {
        "id": "7Ck8tGH79UGC"
      },
      "execution_count": null,
      "outputs": []
    },
    {
      "cell_type": "markdown",
      "source": [
        "This dataset is using times and temperature only, so needs adjustment"
      ],
      "metadata": {
        "id": "EJwYFlC2-rH-"
      }
    },
    {
      "cell_type": "code",
      "source": [
        "def parse_data_from_file(filename):\n",
        "    \"\"\"Parse data from csv file\n",
        "\n",
        "    Args:\n",
        "        filename (str): complete path to file (path + filename)\n",
        "\n",
        "    Returns:\n",
        "        (np.ndarray, np.ndarray): arrays of timestamps and values of the time series\n",
        "    \"\"\"\n",
        "\n",
        "    # Load the temperatures using np.loadtxt. We want to skip the first\n",
        "    # row, since it's headers. Make sure to use the correct column of the csv file.\n",
        "    #temperatures = np.loadtxt(filename, dtype='float', delimiter=',', skiprows=1, usecols=1)\n",
        "    #times = np.arange(len(temperatures)) # Create the time steps.\n",
        "\n",
        "    return times, temperatures"
      ],
      "metadata": {
        "id": "YfunlJR8-XlW"
      },
      "execution_count": null,
      "outputs": []
    }
  ]
}